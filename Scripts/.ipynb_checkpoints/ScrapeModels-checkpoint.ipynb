{
 "cells": [
  {
   "cell_type": "code",
   "execution_count": 2,
   "metadata": {},
   "outputs": [],
   "source": [
    "from bs4 import BeautifulSoup"
   ]
  },
  {
   "cell_type": "code",
   "execution_count": 3,
   "metadata": {},
   "outputs": [],
   "source": [
    "import requests"
   ]
  },
  {
   "cell_type": "code",
   "execution_count": 4,
   "metadata": {},
   "outputs": [],
   "source": [
    "base_url = \"https://github.com/ShanonPearce/ASH-IR-Dataset/tree/master/HpCFs\""
   ]
  },
  {
   "cell_type": "code",
   "execution_count": 5,
   "metadata": {},
   "outputs": [],
   "source": [
    "models_page = BeautifulSoup(requests.get(base_url).content, 'html.parser')"
   ]
  },
  {
   "cell_type": "markdown",
   "metadata": {},
   "source": [
    "## TODO\n",
    "IRs are stored both in top directory, and subdirs for companies with many models. Gotta grab all subdirs for full list"
   ]
  },
  {
   "cell_type": "code",
   "execution_count": 6,
   "metadata": {},
   "outputs": [],
   "source": [
    "model_links = models_page.select('div.Box-row a.link-gray-dark')\n",
    "model_hrefs = [x.get('href') for x in model_links]\n",
    "ir_hrefs = [x for x in model_hrefs if x.endswith('.wav')]"
   ]
  },
  {
   "cell_type": "code",
   "execution_count": 9,
   "metadata": {},
   "outputs": [],
   "source": [
    "maker_model_stubs = [x.split('/')[-1].rstrip('.wav') for x in ir_hrefs]"
   ]
  },
  {
   "cell_type": "code",
   "execution_count": 7,
   "metadata": {},
   "outputs": [],
   "source": [
    "ir_valid_links = ['https://github.com'+x+'?raw=true' for x in ir_hrefs]"
   ]
  },
  {
   "cell_type": "code",
   "execution_count": 50,
   "metadata": {},
   "outputs": [
    {
     "data": {
      "text/plain": [
       "['https://github.com/ShanonPearce/ASH-IR-Dataset/blob/master/HpCFs/HpCF_AKG_Samsung_Galaxy_S10_Headphones.wav?raw=true',\n",
       " 'https://github.com/ShanonPearce/ASH-IR-Dataset/blob/master/HpCFs/HpCF_Advanced_Alpha_A.wav?raw=true',\n",
       " 'https://github.com/ShanonPearce/ASH-IR-Dataset/blob/master/HpCFs/HpCF_Advanced_Alpha_Avg.wav?raw=true',\n",
       " 'https://github.com/ShanonPearce/ASH-IR-Dataset/blob/master/HpCFs/HpCF_Advanced_Alpha_B.wav?raw=true',\n",
       " 'https://github.com/ShanonPearce/ASH-IR-Dataset/blob/master/HpCFs/HpCF_AudioQuest_Nighthawk_A.wav?raw=true',\n",
       " 'https://github.com/ShanonPearce/ASH-IR-Dataset/blob/master/HpCFs/HpCF_AudioQuest_Nighthawk_Avg.wav?raw=true',\n",
       " 'https://github.com/ShanonPearce/ASH-IR-Dataset/blob/master/HpCFs/HpCF_AudioQuest_Nighthawk_B.wav?raw=true',\n",
       " 'https://github.com/ShanonPearce/ASH-IR-Dataset/blob/master/HpCFs/HpCF_Audio_Zenith_PMX2.wav?raw=true',\n",
       " 'https://github.com/ShanonPearce/ASH-IR-Dataset/blob/master/HpCFs/HpCF_Audio_Zenith_PMX2_Avg.wav?raw=true',\n",
       " 'https://github.com/ShanonPearce/ASH-IR-Dataset/blob/master/HpCFs/HpCF_Audio_Zenith_PMX2_B.wav?raw=true']"
      ]
     },
     "execution_count": 50,
     "metadata": {},
     "output_type": "execute_result"
    }
   ],
   "source": [
    "ir_valid_links[:10]"
   ]
  },
  {
   "cell_type": "code",
   "execution_count": 12,
   "metadata": {},
   "outputs": [],
   "source": [
    "import pandas as pd"
   ]
  },
  {
   "cell_type": "code",
   "execution_count": 13,
   "metadata": {},
   "outputs": [],
   "source": [
    "df = pd.DataFrame()"
   ]
  },
  {
   "cell_type": "code",
   "execution_count": 14,
   "metadata": {},
   "outputs": [],
   "source": [
    "df[\"link\"] = ir_valid_links"
   ]
  },
  {
   "cell_type": "code",
   "execution_count": 15,
   "metadata": {},
   "outputs": [],
   "source": [
    "df[\"stub\"] = maker_model_stubs"
   ]
  },
  {
   "cell_type": "code",
   "execution_count": 16,
   "metadata": {},
   "outputs": [],
   "source": [
    "df.to_csv('~/ir_links.csv')"
   ]
  },
  {
   "cell_type": "code",
   "execution_count": null,
   "metadata": {},
   "outputs": [],
   "source": []
  }
 ],
 "metadata": {
  "kernelspec": {
   "display_name": "Python 3",
   "language": "python",
   "name": "python3"
  },
  "language_info": {
   "codemirror_mode": {
    "name": "ipython",
    "version": 3
   },
   "file_extension": ".py",
   "mimetype": "text/x-python",
   "name": "python",
   "nbconvert_exporter": "python",
   "pygments_lexer": "ipython3",
   "version": "3.7.6"
  }
 },
 "nbformat": 4,
 "nbformat_minor": 4
}
